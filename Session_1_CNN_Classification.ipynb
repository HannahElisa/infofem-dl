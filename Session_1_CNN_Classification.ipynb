{
 "cells": [
  {
   "cell_type": "markdown",
   "metadata": {
    "colab_type": "text",
    "id": "view-in-github"
   },
   "source": [
    "<a href=\"https://colab.research.google.com/github/mtwenzel/image-video-understanding/blob/master/Session_1_CNN_Classification.ipynb\" target=\"_parent\"><img src=\"https://colab.research.google.com/assets/colab-badge.svg\" alt=\"Open In Colab\"/></a>"
   ]
  },
  {
   "cell_type": "markdown",
   "metadata": {
    "id": "GTDP7DB926WP"
   },
   "source": [
    "### This is a Jupyter notebook.  \n",
    "### The most important keyboard shortcuts (cf. the \"Help\" menu) are\n",
    "* **cursor keys** to select cells\n",
    "* **Enter** to go from command mode to edit mode (for changing cell contents)\n",
    "  * (**Esc** would go back to command mode.)\n",
    "* **Shift+Enter** to *execute and advance* a cell\n",
    "  * While experimenting with different values in the same cell, **Ctrl+Enter** is also handy, which executes but does not advance the cursor.\n",
    "* There is an edit mode with a green bar to the left, and a execution/command mode with a blue bar.\n",
    "* In command mode, some keys have a function:\n",
    "    * `l`: toggle line numbers\n",
    "    * `a`: new cell above \n",
    "    * `b`: new cell below\n",
    "    * `h`: help / see more keyboard shortcuts\n",
    "    \n",
    "### If you execute it in Google Colab, some extra functions are provided:\n",
    "\n",
    "* Cells can **hide the code**. This is the case for the \"Imports\" cell below. Double-clicking still gets you to the code directly. The code can be hidden again with a double-click.\n",
    "* Cells can provide convenient **parameter interfaces**, like drop-down lists, sliders, and input fields. You will see this in the \"Initialize random data\" cell below. Again, double-clicking brings up the code."
   ]
  },
  {
   "cell_type": "markdown",
   "metadata": {
    "id": "tY6dUFRv26WR"
   },
   "source": [
    "# Image and Video Understanding -- Session 1 (Classification)\n"
   ]
  },
  {
   "cell_type": "markdown",
   "metadata": {
    "id": "eki0pqq026WS"
   },
   "source": [
    "## 1. First Experiments with Random Data\n",
    "* Start by importing some required python modules that implement the layers we will use to build the network. \n",
    "* We also need a \"container\" to connect the layers: the \"Model\""
   ]
  },
  {
   "cell_type": "code",
   "execution_count": 3,
   "metadata": {
    "cellView": "form",
    "id": "b7wllEz626WT"
   },
   "outputs": [
    {
     "name": "stderr",
     "output_type": "stream",
     "text": [
      "UsageError: Line magic function `%tensorflow_version` not found.\n"
     ]
    }
   ],
   "source": [
    "#@title Imports\n",
    "#@markdown To edit the imports, double-click on the cell\n",
    "\n",
    "#@markdown We set TensorFlow 2.x as default for this notebook. This includes Keras.\n",
    "\n",
    "%tensorflow_version 2.x\n",
    "\n",
    "from tensorflow.keras.layers import InputLayer, Conv2D, MaxPool2D, Flatten, Dense, UpSampling2D, LocallyConnected2D, Dropout\n",
    "from tensorflow.keras.models import Model, Sequential\n",
    "from tensorflow.keras import optimizers\n",
    "\n",
    "import numpy as np"
   ]
  },
  {
   "cell_type": "markdown",
   "metadata": {
    "id": "0_amAT5l26WW"
   },
   "source": [
    "### Create random data\n",
    "\n",
    "In these examples, we'll use artificial data first, and then switch to real data.\n",
    "\n",
    "Run the code in the following cell, which will create a pair of input data `x_train` and corresponding output data `y_train` for training a classifier.  `x_train` contains the set number of training examples (or instances), with the set number of features. `y_train` contains labels, with the first half `1`, and the second `0`. Our goal is to train a model which takes the input data `x` and map them to one of the two classes `0` or `1` contained in `y`."
   ]
  },
  {
   "cell_type": "code",
   "execution_count": 5,
   "metadata": {
    "cellView": "form",
    "id": "ILE5IZO726WW"
   },
   "outputs": [],
   "source": [
    "#@title Initialize random data\n",
    "#@markdown Create random data sampled from uniform distribution.\n",
    "#@markdown Set the desired number of instances\n",
    "NUM_INSTANCES = 100 #@param {type:'slider', min:0, max:10000, step:100}\n",
    "#@markdown Set the desired number of features (random from uniform distribution)\n",
    "NUM_FEATURES = 1000 #@param {type:'slider', min:0, max:10000, step:100}\n",
    "x_train = np.random.random((NUM_INSTANCES, NUM_FEATURES)) \n",
    "y_train = np.zeros((NUM_INSTANCES,)) # Label vector (initialized with 0s)\n",
    "y_train[:int(NUM_INSTANCES/2)] = 1 # set first half of vector to 1\n"
   ]
  },
  {
   "cell_type": "markdown",
   "metadata": {},
   "source": [
    "### Define the model"
   ]
  },
  {
   "cell_type": "code",
   "execution_count": 7,
   "metadata": {
    "id": "1b398tpb26WZ"
   },
   "outputs": [
    {
     "name": "stdout",
     "output_type": "stream",
     "text": [
      "Model: \"sequential_1\"\n",
      "_________________________________________________________________\n",
      "Layer (type)                 Output Shape              Param #   \n",
      "=================================================================\n",
      "Hidden (Dense)               (None, 256)               256256    \n",
      "_________________________________________________________________\n",
      "dense_1 (Dense)              (None, 1)                 257       \n",
      "=================================================================\n",
      "Total params: 256,513\n",
      "Trainable params: 256,513\n",
      "Non-trainable params: 0\n",
      "_________________________________________________________________\n"
     ]
    }
   ],
   "source": [
    "model = Sequential() # We choose a simple sequential model without branching\n",
    "model.add(InputLayer(input_shape = (NUM_FEATURES,)))\n",
    "#@markdown Play with the number of neurons\n",
    "NUM_NEURONS = 256 #@param {type:'integer'}\n",
    "model.add(Dense(units=NUM_NEURONS, name=\"Hidden\")) \n",
    "\n",
    "#@markdown Optionally increase the number of layers.\n",
    "#model.add(Dense(units=128))\n",
    "#model.add(Dense(units=64))\n",
    "model.add(Dense(units=1, activation='sigmoid'))\n",
    "\n",
    "model.compile(loss='binary_crossentropy', optimizer='adadelta')\n",
    "model.summary()\n",
    "# @markdown If only interested in the number of parameters, use this:\n",
    "# @markdown `print(\"Model parameters: {0:,}\".format(model.count_params()))`"
   ]
  },
  {
   "cell_type": "markdown",
   "metadata": {
    "id": "t8bU6j7r26Wb"
   },
   "source": [
    "### Training the network"
   ]
  },
  {
   "cell_type": "markdown",
   "metadata": {},
   "source": [
    "Train the network by executing the following. \n",
    "\n",
    "Clicking left to the output once will change the display mode from a scrollable field to a full display and back. Double-clicking it collapses it, so it is not so dominant.\n",
    "In Google Colab, you can savely `x` the output with a click in the top left corner. This removes the printout, but not the cell results."
   ]
  },
  {
   "cell_type": "code",
   "execution_count": 8,
   "metadata": {
    "id": "1s0plRmN26Wc",
    "scrolled": true
   },
   "outputs": [
    {
     "name": "stdout",
     "output_type": "stream",
     "text": [
      "Train on 100 samples\n",
      "Epoch 1/100\n",
      "100/100 [==============================] - 1s 11ms/sample - loss: 1.0902\n",
      "Epoch 2/100\n",
      "100/100 [==============================] - 0s 88us/sample - loss: 1.0505\n",
      "Epoch 3/100\n",
      "100/100 [==============================] - 0s 89us/sample - loss: 1.0160\n",
      "Epoch 4/100\n",
      "100/100 [==============================] - 0s 87us/sample - loss: 0.9846\n",
      "Epoch 5/100\n",
      "100/100 [==============================] - 0s 92us/sample - loss: 0.9553\n",
      "Epoch 6/100\n",
      "100/100 [==============================] - 0s 103us/sample - loss: 0.9298\n",
      "Epoch 7/100\n",
      "100/100 [==============================] - 0s 86us/sample - loss: 0.9062\n",
      "Epoch 8/100\n",
      "100/100 [==============================] - 0s 100us/sample - loss: 0.8863\n",
      "Epoch 9/100\n",
      "100/100 [==============================] - 0s 82us/sample - loss: 0.8681\n",
      "Epoch 10/100\n",
      "100/100 [==============================] - 0s 93us/sample - loss: 0.8525\n",
      "Epoch 11/100\n",
      "100/100 [==============================] - 0s 71us/sample - loss: 0.8383\n",
      "Epoch 12/100\n",
      "100/100 [==============================] - 0s 86us/sample - loss: 0.8270\n",
      "Epoch 13/100\n",
      "100/100 [==============================] - 0s 79us/sample - loss: 0.8169\n",
      "Epoch 14/100\n",
      "100/100 [==============================] - 0s 88us/sample - loss: 0.8072\n",
      "Epoch 15/100\n",
      "100/100 [==============================] - 0s 79us/sample - loss: 0.7996\n",
      "Epoch 16/100\n",
      "100/100 [==============================] - 0s 87us/sample - loss: 0.7931\n",
      "Epoch 17/100\n",
      "100/100 [==============================] - 0s 83us/sample - loss: 0.7871\n",
      "Epoch 18/100\n",
      "100/100 [==============================] - 0s 82us/sample - loss: 0.7821\n",
      "Epoch 19/100\n",
      "100/100 [==============================] - 0s 84us/sample - loss: 0.7775\n",
      "Epoch 20/100\n",
      "100/100 [==============================] - 0s 83us/sample - loss: 0.7737\n",
      "Epoch 21/100\n",
      "100/100 [==============================] - 0s 93us/sample - loss: 0.7708\n",
      "Epoch 22/100\n",
      "100/100 [==============================] - 0s 78us/sample - loss: 0.7680\n",
      "Epoch 23/100\n",
      "100/100 [==============================] - 0s 92us/sample - loss: 0.7661\n",
      "Epoch 24/100\n",
      "100/100 [==============================] - 0s 76us/sample - loss: 0.7639\n",
      "Epoch 25/100\n",
      "100/100 [==============================] - 0s 92us/sample - loss: 0.7623\n",
      "Epoch 26/100\n",
      "100/100 [==============================] - 0s 76us/sample - loss: 0.7609\n",
      "Epoch 27/100\n",
      "100/100 [==============================] - 0s 87us/sample - loss: 0.7592\n",
      "Epoch 28/100\n",
      "100/100 [==============================] - 0s 80us/sample - loss: 0.7584\n",
      "Epoch 29/100\n",
      "100/100 [==============================] - 0s 96us/sample - loss: 0.7569\n",
      "Epoch 30/100\n",
      "100/100 [==============================] - 0s 83us/sample - loss: 0.7559\n",
      "Epoch 31/100\n",
      "100/100 [==============================] - 0s 86us/sample - loss: 0.7555\n",
      "Epoch 32/100\n",
      "100/100 [==============================] - 0s 89us/sample - loss: 0.7544\n",
      "Epoch 33/100\n",
      "100/100 [==============================] - 0s 80us/sample - loss: 0.7542\n",
      "Epoch 34/100\n",
      "100/100 [==============================] - 0s 93us/sample - loss: 0.7532\n",
      "Epoch 35/100\n",
      "100/100 [==============================] - 0s 82us/sample - loss: 0.7528\n",
      "Epoch 36/100\n",
      "100/100 [==============================] - 0s 98us/sample - loss: 0.7518\n",
      "Epoch 37/100\n",
      "100/100 [==============================] - 0s 83us/sample - loss: 0.7518\n",
      "Epoch 38/100\n",
      "100/100 [==============================] - 0s 88us/sample - loss: 0.7511\n",
      "Epoch 39/100\n",
      "100/100 [==============================] - 0s 82us/sample - loss: 0.7507\n",
      "Epoch 40/100\n",
      "100/100 [==============================] - 0s 94us/sample - loss: 0.7505\n",
      "Epoch 41/100\n",
      "100/100 [==============================] - 0s 82us/sample - loss: 0.7492\n",
      "Epoch 42/100\n",
      "100/100 [==============================] - 0s 87us/sample - loss: 0.7493\n",
      "Epoch 43/100\n",
      "100/100 [==============================] - 0s 89us/sample - loss: 0.7485\n",
      "Epoch 44/100\n",
      "100/100 [==============================] - 0s 84us/sample - loss: 0.7482\n",
      "Epoch 45/100\n",
      "100/100 [==============================] - 0s 93us/sample - loss: 0.7476\n",
      "Epoch 46/100\n",
      "100/100 [==============================] - 0s 86us/sample - loss: 0.7469\n",
      "Epoch 47/100\n",
      "100/100 [==============================] - 0s 92us/sample - loss: 0.7468\n",
      "Epoch 48/100\n",
      "100/100 [==============================] - 0s 81us/sample - loss: 0.7463\n",
      "Epoch 49/100\n",
      "100/100 [==============================] - 0s 86us/sample - loss: 0.7459\n",
      "Epoch 50/100\n",
      "100/100 [==============================] - 0s 79us/sample - loss: 0.7461\n",
      "Epoch 51/100\n",
      "100/100 [==============================] - 0s 83us/sample - loss: 0.7451\n",
      "Epoch 52/100\n",
      "100/100 [==============================] - 0s 89us/sample - loss: 0.7443\n",
      "Epoch 53/100\n",
      "100/100 [==============================] - 0s 85us/sample - loss: 0.7435\n",
      "Epoch 54/100\n",
      "100/100 [==============================] - 0s 91us/sample - loss: 0.7432\n",
      "Epoch 55/100\n",
      "100/100 [==============================] - 0s 78us/sample - loss: 0.7433\n",
      "Epoch 56/100\n",
      "100/100 [==============================] - 0s 89us/sample - loss: 0.7429\n",
      "Epoch 57/100\n",
      "100/100 [==============================] - 0s 76us/sample - loss: 0.7421\n",
      "Epoch 58/100\n",
      "100/100 [==============================] - 0s 96us/sample - loss: 0.7417\n",
      "Epoch 59/100\n",
      "100/100 [==============================] - 0s 83us/sample - loss: 0.7410\n",
      "Epoch 60/100\n",
      "100/100 [==============================] - 0s 88us/sample - loss: 0.7409\n",
      "Epoch 61/100\n",
      "100/100 [==============================] - 0s 78us/sample - loss: 0.7407\n",
      "Epoch 62/100\n",
      "100/100 [==============================] - 0s 86us/sample - loss: 0.7397\n",
      "Epoch 63/100\n",
      "100/100 [==============================] - 0s 86us/sample - loss: 0.7394\n",
      "Epoch 64/100\n",
      "100/100 [==============================] - 0s 92us/sample - loss: 0.7388\n",
      "Epoch 65/100\n",
      "100/100 [==============================] - 0s 86us/sample - loss: 0.7381\n",
      "Epoch 66/100\n",
      "100/100 [==============================] - 0s 76us/sample - loss: 0.7375\n",
      "Epoch 67/100\n",
      "100/100 [==============================] - 0s 88us/sample - loss: 0.7377\n",
      "Epoch 68/100\n",
      "100/100 [==============================] - 0s 76us/sample - loss: 0.7368\n",
      "Epoch 69/100\n",
      "100/100 [==============================] - 0s 89us/sample - loss: 0.7360\n",
      "Epoch 70/100\n",
      "100/100 [==============================] - 0s 80us/sample - loss: 0.7359\n",
      "Epoch 71/100\n",
      "100/100 [==============================] - 0s 93us/sample - loss: 0.7355\n",
      "Epoch 72/100\n",
      "100/100 [==============================] - 0s 81us/sample - loss: 0.7348\n",
      "Epoch 73/100\n",
      "100/100 [==============================] - 0s 89us/sample - loss: 0.7344\n",
      "Epoch 74/100\n",
      "100/100 [==============================] - 0s 76us/sample - loss: 0.7340\n",
      "Epoch 75/100\n",
      "100/100 [==============================] - 0s 91us/sample - loss: 0.7332\n",
      "Epoch 76/100\n",
      "100/100 [==============================] - 0s 80us/sample - loss: 0.7333\n",
      "Epoch 77/100\n",
      "100/100 [==============================] - 0s 87us/sample - loss: 0.7325\n",
      "Epoch 78/100\n",
      "100/100 [==============================] - 0s 84us/sample - loss: 0.7325\n",
      "Epoch 79/100\n",
      "100/100 [==============================] - 0s 82us/sample - loss: 0.7318\n",
      "Epoch 80/100\n",
      "100/100 [==============================] - 0s 94us/sample - loss: 0.7317\n",
      "Epoch 81/100\n",
      "100/100 [==============================] - 0s 83us/sample - loss: 0.7308\n",
      "Epoch 82/100\n",
      "100/100 [==============================] - 0s 99us/sample - loss: 0.7304\n",
      "Epoch 83/100\n",
      "100/100 [==============================] - 0s 80us/sample - loss: 0.7299\n",
      "Epoch 84/100\n",
      "100/100 [==============================] - 0s 122us/sample - loss: 0.7289\n",
      "Epoch 85/100\n",
      "100/100 [==============================] - 0s 90us/sample - loss: 0.7288\n",
      "Epoch 86/100\n",
      "100/100 [==============================] - 0s 85us/sample - loss: 0.7279\n",
      "Epoch 87/100\n",
      "100/100 [==============================] - 0s 92us/sample - loss: 0.7280\n",
      "Epoch 88/100\n",
      "100/100 [==============================] - 0s 81us/sample - loss: 0.7274\n",
      "Epoch 89/100\n",
      "100/100 [==============================] - 0s 95us/sample - loss: 0.7268\n",
      "Epoch 90/100\n",
      "100/100 [==============================] - 0s 79us/sample - loss: 0.7264\n",
      "Epoch 91/100\n",
      "100/100 [==============================] - 0s 92us/sample - loss: 0.7255\n",
      "Epoch 92/100\n",
      "100/100 [==============================] - 0s 80us/sample - loss: 0.7255\n",
      "Epoch 93/100\n",
      "100/100 [==============================] - 0s 88us/sample - loss: 0.7248\n",
      "Epoch 94/100\n",
      "100/100 [==============================] - 0s 79us/sample - loss: 0.7240\n",
      "Epoch 95/100\n",
      "100/100 [==============================] - 0s 86us/sample - loss: 0.7245\n",
      "Epoch 96/100\n"
     ]
    },
    {
     "name": "stdout",
     "output_type": "stream",
     "text": [
      "100/100 [==============================] - 0s 87us/sample - loss: 0.7230\n",
      "Epoch 97/100\n",
      "100/100 [==============================] - 0s 83us/sample - loss: 0.7232\n",
      "Epoch 98/100\n",
      "100/100 [==============================] - 0s 93us/sample - loss: 0.7222\n",
      "Epoch 99/100\n",
      "100/100 [==============================] - 0s 79us/sample - loss: 0.7215\n",
      "Epoch 100/100\n",
      "100/100 [==============================] - 0s 90us/sample - loss: 0.7212\n"
     ]
    }
   ],
   "source": [
    "history = model.fit(x_train, y_train, batch_size=10, epochs=100)\n"
   ]
  },
  {
   "cell_type": "markdown",
   "metadata": {},
   "source": [
    "### Investigate the \"history\" object you created\n",
    "The training stores its history and important parameters in the _history_ parameter we assigned it to. \n",
    "* Try out the following commands and inspect the variables.\n",
    "* Make use of tab completion, e.g. by typing `hidden_layer.` and press `<tab>` "
   ]
  },
  {
   "cell_type": "code",
   "execution_count": 9,
   "metadata": {
    "id": "kEePRAbJ26Wf"
   },
   "outputs": [
    {
     "name": "stdout",
     "output_type": "stream",
     "text": [
      "(1000, 256)\n",
      "(256,)\n",
      "(256, 1)\n",
      "(1,)\n"
     ]
    }
   ],
   "source": [
    "loss_history = history.history['loss']\n",
    "print(f'Loss history: {loss_history}')\n",
    "weights = history.model.get_weights()\n",
    "hidden_layer = history.model.get_layer(\"Hidden\")\n",
    "for w in weights:\n",
    "    print(w.shape)"
   ]
  },
  {
   "cell_type": "markdown",
   "metadata": {},
   "source": [
    "* We can also display the learning success as measured by the loss by plotting it."
   ]
  },
  {
   "cell_type": "code",
   "execution_count": 13,
   "metadata": {},
   "outputs": [
    {
     "data": {
      "image/png": "[encoded data removed]",
      "text/plain": [
       "<Figure size 1440x320 with 1 Axes>"
      ]
     },
     "metadata": {},
     "output_type": "display_data"
    }
   ],
   "source": [
    "import matplotlib.pyplot as plt\n",
    "%matplotlib inline\n",
    "\n",
    "fig,ax = plt.subplots(figsize=(18, 4), dpi= 80, facecolor='w', edgecolor='k')\n",
    "ax.plot(history.history['loss'])\n",
    "ax.set_xlabel('Epoch')\n",
    "ax.set_ylabel('Loss')\n",
    "ax.grid()\n",
    "plt.show()"
   ]
  },
  {
   "cell_type": "markdown",
   "metadata": {
    "id": "nz8lrfL726We"
   },
   "source": [
    "### Interpreting the result\n",
    "* What can you observe regarding the loss?\n",
    "* Why is that possible?\n",
    "* Change the number of training instances to 1000. Assure that the classes are equally frequent again. What can you observe?\n",
    "* Be reminded that you have to re-create the model to reset the weights. To do this, execute the cell with the model definition (important is the `model.compile()` call)\n",
    "\n",
    "\n",
    "### A remark on optimization\n",
    "* Optimizers like SGD, ADAM, ADAGrad ADADelta etc. are variants of Stochastic Gradient Descent (SGD).\n",
    "* SGD estimates the gradient for parameters based on a batch of examples.\n",
    "    * The larger the batch, the better the estimated gradiend approximates the gradient for the whole dataset.\n",
    "* It takes about 300 epochs to converge when creating 1000 instances."
   ]
  },
  {
   "cell_type": "markdown",
   "metadata": {
    "id": "SZR1farX26Wh"
   },
   "source": [
    "## 2. Image Classification: _MNIST handwritten digits_\n",
    "\n",
    "### Read the data\n",
    "\n",
    "* We want to work on images: MNIST is a public dataset which contains images of handwritten digits. \n",
    "* You can import them from Keras with one line, because it is one of the standard datasets used for machine learning."
   ]
  },
  {
   "cell_type": "code",
   "execution_count": 11,
   "metadata": {
    "cellView": "form",
    "id": "Dj5ic03p26Wi"
   },
   "outputs": [
    {
     "data": {
      "text/plain": [
       "((6000, 28, 28), (6000,), (500, 28, 28), (500,))"
      ]
     },
     "execution_count": 11,
     "metadata": {},
     "output_type": "execute_result"
    }
   ],
   "source": [
    "#@title Import MNIST data\n",
    "#@markdown If you execute this cell, you will overwrite the data `x_train` and `y_train` above. In addition, it gives you test data in `x_test` and `y_test`.\n",
    "from tensorflow.keras.datasets import mnist\n",
    "\n",
    "(x_train, y_train), (x_test, y_test) = mnist.load_data()\n",
    "\n",
    "# reduce data by factor 10 / 20 for fast execution during course\n",
    "x_train = x_train[::10]\n",
    "y_train = y_train[::10]\n",
    "x_test = x_test[::20]\n",
    "y_test = y_test[::20]\n",
    "\n",
    "# verify resulting array shapes\n",
    "x_train.shape, y_train.shape, x_test.shape, y_test.shape"
   ]
  },
  {
   "cell_type": "markdown",
   "metadata": {
    "id": "2hftKUCa26Wk"
   },
   "source": [
    "### Inspecting the data\n",
    "\n",
    "Look at the shape of the `x_train` variable to understand how the data is organised."
   ]
  },
  {
   "cell_type": "code",
   "execution_count": 12,
   "metadata": {},
   "outputs": [
    {
     "name": "stdout",
     "output_type": "stream",
     "text": [
      "(6000, 28, 28)\n"
     ]
    }
   ],
   "source": [
    "# Inspect the shape of x_train\n",
    "print(x_train.shape)"
   ]
  },
  {
   "cell_type": "markdown",
   "metadata": {},
   "source": [
    "* You can see that the data has 6000 training examples, each of shape 28x28.\n",
    "* These are images of size 28x28 pixels.\n"
   ]
  },
  {
   "cell_type": "markdown",
   "metadata": {},
   "source": [
    "Look at the shape and values of `y_train` to understand the output."
   ]
  },
  {
   "cell_type": "code",
   "execution_count": 13,
   "metadata": {},
   "outputs": [
    {
     "name": "stdout",
     "output_type": "stream",
     "text": [
      "Shape of y: (6000,), Minimum of y: 0, Maximum of y: 9\n"
     ]
    }
   ],
   "source": [
    " print(f'Shape of y: {y_train.shape}, Minimum of y: {y_train.min()}, Maximum of y: {y_train.max()}')"
   ]
  },
  {
   "cell_type": "markdown",
   "metadata": {},
   "source": [
    "* The corresponding output is just a long vector of corresponding labels in the range [0...9], refering to the displayed digit. "
   ]
  },
  {
   "cell_type": "markdown",
   "metadata": {
    "id": "syYfQPY626Wo"
   },
   "source": [
    "As we are dealing with *images* now, we want to display them.\n",
    "* `matplotlib` is a python package well suited plotting data and displaying images.\n",
    "* Change the index of `x_train[index]` in the cell below to have a look at different images from the dataset. "
   ]
  },
  {
   "cell_type": "code",
   "execution_count": 14,
   "metadata": {
    "id": "EdZLsaFq26Wo"
   },
   "outputs": [],
   "source": [
    "import matplotlib.pyplot as plt\n",
    "%matplotlib inline"
   ]
  },
  {
   "cell_type": "code",
   "execution_count": 15,
   "metadata": {
    "id": "ckDwKNqc26Wq"
   },
   "outputs": [
    {
     "data": {
      "text/plain": [
       "<matplotlib.image.AxesImage at 0x7f89d016f6d8>"
      ]
     },
     "execution_count": 15,
     "metadata": {},
     "output_type": "execute_result"
    },
    {
     "data": {
      "image/png": "[encoded data removed]",
      "text/plain": [
       "<Figure size 432x288 with 1 Axes>"
      ]
     },
     "metadata": {
      "needs_background": "light"
     },
     "output_type": "display_data"
    }
   ],
   "source": [
    "# Look at an image\n",
    "plt.imshow(x_train[700], cmap='gray')"
   ]
  },
  {
   "cell_type": "markdown",
   "metadata": {
    "id": "3NmZwqTQ26Wv"
   },
   "source": [
    "Also, we could be interested in the distribution of labels in our data so we plot a histogram:"
   ]
  },
  {
   "cell_type": "code",
   "execution_count": 26,
   "metadata": {
    "id": "2BoOyAKY26Ww"
   },
   "outputs": [
    {
     "data": {
      "image/png": "[encoded data removed]",
      "text/plain": [
       "<Figure size 432x288 with 1 Axes>"
      ]
     },
     "metadata": {
      "needs_background": "light"
     },
     "output_type": "display_data"
    }
   ],
   "source": [
    "plt.hist(y_train)\n",
    "plt.xlabel('Digits')\n",
    "plt.ylabel('Frequency')\n",
    "plt.show()"
   ]
  },
  {
   "cell_type": "markdown",
   "metadata": {
    "id": "vD59O5wq26Wy"
   },
   "source": [
    "### Preparing the labels for a classification network\n",
    "We want to convert the numeric labels to so-called *\"one-hot vectors\"*.\n",
    "* One-hot means that the network does not directly output a number between 0 and 9 representing the digit.\n",
    "* Rather, we want a vector with 10 entries, in which only one entry is 1, all others 0, e.g. `[0, 0, 1, 0, 0, 0, 0, 0, 0, 0]` to label a \"2\".\n",
    "* *Rationale:* The digits represent different categorical classes, and we want to penalize all confused digits the same; it is not \"better\" or \"closer\" if the network outputs 4.2 given an image depicting a \"6\" than if the output is 1.\n",
    "* In general, the one-hot encoding helps with classification problems and allows to let the neuron with maximal activation \"win\"."
   ]
  },
  {
   "cell_type": "code",
   "execution_count": 18,
   "metadata": {
    "id": "muMO1Ar626Wz"
   },
   "outputs": [],
   "source": [
    "num_labels = 10\n",
    "# Code to convert labels\n",
    "y_train_one_hot = (np.arange(num_labels) == y_train[:,np.newaxis]).astype(np.float32)"
   ]
  },
  {
   "cell_type": "code",
   "execution_count": 19,
   "metadata": {
    "id": "7nxi5-3Q26W1"
   },
   "outputs": [],
   "source": [
    "# Keras offers a convenience function to achieve the same:\n",
    "from tensorflow.keras.utils import to_categorical\n",
    "y_train_one_hot = to_categorical(y_train, num_classes=num_labels)\n",
    "# Same for the testing data\n",
    "y_test_one_hot  = to_categorical(y_test, num_classes=num_labels)"
   ]
  },
  {
   "cell_type": "markdown",
   "metadata": {},
   "source": [
    "Look at the shape of the one-hot-converted vector `y_train_one_hot` to assure that each training example no has 10 entries. Compare the digit representation exemplarily to the one-hot-representation."
   ]
  },
  {
   "cell_type": "code",
   "execution_count": 20,
   "metadata": {},
   "outputs": [
    {
     "name": "stdout",
     "output_type": "stream",
     "text": [
      "(6000, 10)\n",
      "Digit 5 is converted to [0. 0. 0. 0. 0. 1. 0. 0. 0. 0.]\n"
     ]
    }
   ],
   "source": [
    "print(y_train_one_hot.shape)\n",
    "print(f'Digit {y_train[10]} is converted to {y_train_one_hot[10,:]}')"
   ]
  },
  {
   "cell_type": "markdown",
   "metadata": {
    "id": "huoaBC6D26W3"
   },
   "source": [
    "### Image classification with a simple neural network\n",
    "We now want to train the above network on this data. It should take the images in `x_train` as input and predicts the correct digit as stored in `y_train_one_hot`. We have to adapt the model to use inputs of 28 x 28, and to produce vector outputs. We have prepared this below:\n",
    "* Modified the parameter `input_shape=(...)` to adapt to the new data\n",
    "* Modified the number of dense units in the output layer to reflect the number of classes; 10 in the digits example\n",
    "* Modified the loss function to deal with multiple classes"
   ]
  },
  {
   "cell_type": "code",
   "execution_count": 21,
   "metadata": {
    "id": "zE0crVQE26W4"
   },
   "outputs": [
    {
     "name": "stdout",
     "output_type": "stream",
     "text": [
      "Model: \"sequential_5\"\n",
      "_________________________________________________________________\n",
      "Layer (type)                 Output Shape              Param #   \n",
      "=================================================================\n",
      "flatten_3 (Flatten)          (None, 784)               0         \n",
      "_________________________________________________________________\n",
      "dense_6 (Dense)              (None, 128)               100480    \n",
      "_________________________________________________________________\n",
      "dense_7 (Dense)              (None, 128)               16512     \n",
      "_________________________________________________________________\n",
      "dropout_3 (Dropout)          (None, 128)               0         \n",
      "_________________________________________________________________\n",
      "output (Dense)               (None, 10)                1290      \n",
      "=================================================================\n",
      "Total params: 118,282\n",
      "Trainable params: 118,282\n",
      "Non-trainable params: 0\n",
      "_________________________________________________________________\n"
     ]
    }
   ],
   "source": [
    "model = Sequential()\n",
    "model.add(InputLayer(input_shape=(28,28)))\n",
    "model.add(Flatten()) # Layer reshaping the 28x28 arrays into vectors of length 28*28=784\n",
    "model.add(Dense(units=128)) # Try higher or lower numbers of hidden units!\n",
    "# Try adding more layers!\n",
    "model.add(Dense(units=128))\n",
    "model.add(Dropout(0.5))\n",
    "\n",
    "#model.add(Dense(units=128))\n",
    "#model.add(Dropout(0.5))\n",
    "\n",
    "model.add(Dense(units=10, activation='softmax', name='output')) # The number of units in the output layer refers to the number if classes\n",
    "\n",
    "model.compile(loss='categorical_crossentropy', optimizer='adadelta') # The categorical crossentropy loss can deal with multiple classes\n",
    "model.summary()"
   ]
  },
  {
   "cell_type": "code",
   "execution_count": 78,
   "metadata": {
    "id": "kBqoD79p26W6",
    "scrolled": true
   },
   "outputs": [
    {
     "name": "stdout",
     "output_type": "stream",
     "text": [
      "Epoch 1/150\n",
      "12/12 [==============================] - 0s 2ms/step - loss: 161.0671\n",
      "Epoch 2/150\n",
      "12/12 [==============================] - 0s 2ms/step - loss: 165.0433\n",
      "Epoch 3/150\n",
      "12/12 [==============================] - 0s 2ms/step - loss: 161.8452\n",
      "Epoch 4/150\n",
      "12/12 [==============================] - 0s 2ms/step - loss: 160.8152\n",
      "Epoch 5/150\n",
      "12/12 [==============================] - 0s 2ms/step - loss: 158.6118\n",
      "Epoch 6/150\n",
      "12/12 [==============================] - 0s 2ms/step - loss: 156.7018\n",
      "Epoch 7/150\n",
      "12/12 [==============================] - 0s 2ms/step - loss: 162.2550\n",
      "Epoch 8/150\n",
      "12/12 [==============================] - 0s 2ms/step - loss: 156.6969\n",
      "Epoch 9/150\n",
      "12/12 [==============================] - 0s 2ms/step - loss: 156.4704\n",
      "Epoch 10/150\n",
      "12/12 [==============================] - 0s 2ms/step - loss: 155.0619\n",
      "Epoch 11/150\n",
      "12/12 [==============================] - 0s 2ms/step - loss: 152.5592\n",
      "Epoch 12/150\n",
      "12/12 [==============================] - 0s 2ms/step - loss: 157.9172\n",
      "Epoch 13/150\n",
      "12/12 [==============================] - 0s 2ms/step - loss: 153.4364\n",
      "Epoch 14/150\n",
      "12/12 [==============================] - 0s 2ms/step - loss: 150.6675\n",
      "Epoch 15/150\n",
      "12/12 [==============================] - 0s 2ms/step - loss: 152.6266\n",
      "Epoch 16/150\n",
      "12/12 [==============================] - 0s 2ms/step - loss: 147.8184\n",
      "Epoch 17/150\n",
      "12/12 [==============================] - 0s 2ms/step - loss: 151.4861\n",
      "Epoch 18/150\n",
      "12/12 [==============================] - 0s 2ms/step - loss: 148.6575\n",
      "Epoch 19/150\n",
      "12/12 [==============================] - 0s 2ms/step - loss: 151.2119\n",
      "Epoch 20/150\n",
      "12/12 [==============================] - 0s 2ms/step - loss: 146.7891\n",
      "Epoch 21/150\n",
      "12/12 [==============================] - 0s 2ms/step - loss: 144.7145\n",
      "Epoch 22/150\n",
      "12/12 [==============================] - 0s 2ms/step - loss: 145.2661\n",
      "Epoch 23/150\n",
      "12/12 [==============================] - 0s 2ms/step - loss: 146.0243\n",
      "Epoch 24/150\n",
      "12/12 [==============================] - 0s 2ms/step - loss: 145.6250\n",
      "Epoch 25/150\n",
      "12/12 [==============================] - 0s 2ms/step - loss: 144.9485\n",
      "Epoch 26/150\n",
      "12/12 [==============================] - 0s 2ms/step - loss: 144.4242\n",
      "Epoch 27/150\n",
      "12/12 [==============================] - 0s 2ms/step - loss: 143.8799\n",
      "Epoch 28/150\n",
      "12/12 [==============================] - 0s 2ms/step - loss: 143.6523\n",
      "Epoch 29/150\n",
      "12/12 [==============================] - 0s 2ms/step - loss: 141.9056\n",
      "Epoch 30/150\n",
      "12/12 [==============================] - 0s 2ms/step - loss: 140.9978\n",
      "Epoch 31/150\n",
      "12/12 [==============================] - 0s 2ms/step - loss: 142.1796\n",
      "Epoch 32/150\n",
      "12/12 [==============================] - 0s 2ms/step - loss: 137.4798\n",
      "Epoch 33/150\n",
      "12/12 [==============================] - 0s 2ms/step - loss: 137.0938\n",
      "Epoch 34/150\n",
      "12/12 [==============================] - 0s 2ms/step - loss: 136.8678\n",
      "Epoch 35/150\n",
      "12/12 [==============================] - 0s 2ms/step - loss: 138.7970\n",
      "Epoch 36/150\n",
      "12/12 [==============================] - 0s 2ms/step - loss: 136.9514\n",
      "Epoch 37/150\n",
      "12/12 [==============================] - 0s 2ms/step - loss: 137.4998\n",
      "Epoch 38/150\n",
      "12/12 [==============================] - 0s 2ms/step - loss: 135.7207\n",
      "Epoch 39/150\n",
      "12/12 [==============================] - 0s 2ms/step - loss: 136.7899\n",
      "Epoch 40/150\n",
      "12/12 [==============================] - 0s 2ms/step - loss: 135.6412\n",
      "Epoch 41/150\n",
      "12/12 [==============================] - 0s 2ms/step - loss: 136.0483\n",
      "Epoch 42/150\n",
      "12/12 [==============================] - 0s 2ms/step - loss: 134.9455\n",
      "Epoch 43/150\n",
      "12/12 [==============================] - 0s 2ms/step - loss: 136.6484\n",
      "Epoch 44/150\n",
      "12/12 [==============================] - 0s 2ms/step - loss: 131.9356\n",
      "Epoch 45/150\n",
      "12/12 [==============================] - 0s 2ms/step - loss: 133.0975\n",
      "Epoch 46/150\n",
      "12/12 [==============================] - 0s 2ms/step - loss: 131.9481\n",
      "Epoch 47/150\n",
      "12/12 [==============================] - 0s 2ms/step - loss: 131.8271\n",
      "Epoch 48/150\n",
      "12/12 [==============================] - 0s 2ms/step - loss: 130.2107\n",
      "Epoch 49/150\n",
      "12/12 [==============================] - 0s 2ms/step - loss: 129.4799\n",
      "Epoch 50/150\n",
      "12/12 [==============================] - 0s 2ms/step - loss: 129.3457\n",
      "Epoch 51/150\n",
      "12/12 [==============================] - 0s 2ms/step - loss: 131.0206\n",
      "Epoch 52/150\n",
      "12/12 [==============================] - 0s 2ms/step - loss: 130.9635\n",
      "Epoch 53/150\n",
      "12/12 [==============================] - 0s 2ms/step - loss: 124.0251\n",
      "Epoch 54/150\n",
      "12/12 [==============================] - 0s 2ms/step - loss: 127.7291\n",
      "Epoch 55/150\n",
      "12/12 [==============================] - 0s 2ms/step - loss: 126.0436\n",
      "Epoch 56/150\n",
      "12/12 [==============================] - 0s 2ms/step - loss: 127.1289\n",
      "Epoch 57/150\n",
      "12/12 [==============================] - 0s 2ms/step - loss: 127.2500\n",
      "Epoch 58/150\n",
      "12/12 [==============================] - 0s 2ms/step - loss: 125.5999\n",
      "Epoch 59/150\n",
      "12/12 [==============================] - 0s 2ms/step - loss: 124.1694\n",
      "Epoch 60/150\n",
      "12/12 [==============================] - 0s 2ms/step - loss: 123.3879\n",
      "Epoch 61/150\n",
      "12/12 [==============================] - 0s 2ms/step - loss: 122.6063\n",
      "Epoch 62/150\n",
      "12/12 [==============================] - 0s 2ms/step - loss: 118.9244\n",
      "Epoch 63/150\n",
      "12/12 [==============================] - 0s 2ms/step - loss: 124.0595\n",
      "Epoch 64/150\n",
      "12/12 [==============================] - 0s 2ms/step - loss: 122.5209\n",
      "Epoch 65/150\n",
      "12/12 [==============================] - 0s 2ms/step - loss: 122.4432\n",
      "Epoch 66/150\n",
      "12/12 [==============================] - 0s 2ms/step - loss: 124.7238\n",
      "Epoch 67/150\n",
      "12/12 [==============================] - 0s 2ms/step - loss: 122.2573\n",
      "Epoch 68/150\n",
      "12/12 [==============================] - 0s 2ms/step - loss: 118.6178\n",
      "Epoch 69/150\n",
      "12/12 [==============================] - 0s 2ms/step - loss: 122.4191\n",
      "Epoch 70/150\n",
      "12/12 [==============================] - 0s 2ms/step - loss: 120.3955\n",
      "Epoch 71/150\n",
      "12/12 [==============================] - 0s 2ms/step - loss: 118.9065\n",
      "Epoch 72/150\n",
      "12/12 [==============================] - 0s 2ms/step - loss: 118.8949\n",
      "Epoch 73/150\n",
      "12/12 [==============================] - 0s 2ms/step - loss: 119.7686\n",
      "Epoch 74/150\n",
      "12/12 [==============================] - 0s 2ms/step - loss: 118.3759\n",
      "Epoch 75/150\n",
      "12/12 [==============================] - 0s 2ms/step - loss: 117.7899\n",
      "Epoch 76/150\n",
      "12/12 [==============================] - 0s 2ms/step - loss: 116.1428\n",
      "Epoch 77/150\n",
      "12/12 [==============================] - 0s 2ms/step - loss: 117.3264\n",
      "Epoch 78/150\n",
      "12/12 [==============================] - 0s 2ms/step - loss: 115.2402\n",
      "Epoch 79/150\n",
      "12/12 [==============================] - 0s 2ms/step - loss: 117.1950\n",
      "Epoch 80/150\n",
      "12/12 [==============================] - 0s 2ms/step - loss: 114.8460\n",
      "Epoch 81/150\n",
      "12/12 [==============================] - 0s 2ms/step - loss: 115.1548\n",
      "Epoch 82/150\n",
      "12/12 [==============================] - 0s 2ms/step - loss: 112.5488\n",
      "Epoch 83/150\n",
      "12/12 [==============================] - 0s 2ms/step - loss: 113.7273\n",
      "Epoch 84/150\n",
      "12/12 [==============================] - 0s 2ms/step - loss: 112.0768\n",
      "Epoch 85/150\n",
      "12/12 [==============================] - 0s 2ms/step - loss: 113.5738\n",
      "Epoch 86/150\n",
      "12/12 [==============================] - 0s 2ms/step - loss: 112.2808\n",
      "Epoch 87/150\n",
      "12/12 [==============================] - 0s 2ms/step - loss: 114.8064\n",
      "Epoch 88/150\n",
      "12/12 [==============================] - 0s 2ms/step - loss: 113.1562\n",
      "Epoch 89/150\n",
      "12/12 [==============================] - 0s 2ms/step - loss: 111.5692\n",
      "Epoch 90/150\n",
      "12/12 [==============================] - 0s 2ms/step - loss: 112.1337\n",
      "Epoch 91/150\n",
      "12/12 [==============================] - 0s 2ms/step - loss: 110.7218\n",
      "Epoch 92/150\n",
      "12/12 [==============================] - 0s 2ms/step - loss: 111.9969\n",
      "Epoch 93/150\n",
      "12/12 [==============================] - 0s 2ms/step - loss: 110.6364\n",
      "Epoch 94/150\n",
      "12/12 [==============================] - 0s 2ms/step - loss: 109.9272\n",
      "Epoch 95/150\n",
      "12/12 [==============================] - 0s 2ms/step - loss: 110.2052\n",
      "Epoch 96/150\n",
      "12/12 [==============================] - 0s 2ms/step - loss: 107.5521\n",
      "Epoch 97/150\n",
      "12/12 [==============================] - 0s 2ms/step - loss: 108.3370\n",
      "Epoch 98/150\n",
      "12/12 [==============================] - 0s 2ms/step - loss: 108.9052\n",
      "Epoch 99/150\n"
     ]
    },
    {
     "name": "stdout",
     "output_type": "stream",
     "text": [
      "12/12 [==============================] - 0s 2ms/step - loss: 106.6866\n",
      "Epoch 100/150\n",
      "12/12 [==============================] - 0s 2ms/step - loss: 107.5397\n",
      "Epoch 101/150\n",
      "12/12 [==============================] - 0s 2ms/step - loss: 106.0874\n",
      "Epoch 102/150\n",
      "12/12 [==============================] - 0s 2ms/step - loss: 102.9905\n",
      "Epoch 103/150\n",
      "12/12 [==============================] - 0s 2ms/step - loss: 103.7584\n",
      "Epoch 104/150\n",
      "12/12 [==============================] - 0s 2ms/step - loss: 106.8543\n",
      "Epoch 105/150\n",
      "12/12 [==============================] - 0s 2ms/step - loss: 102.7055\n",
      "Epoch 106/150\n",
      "12/12 [==============================] - 0s 2ms/step - loss: 103.1265\n",
      "Epoch 107/150\n",
      "12/12 [==============================] - 0s 2ms/step - loss: 105.9344\n",
      "Epoch 108/150\n",
      "12/12 [==============================] - 0s 2ms/step - loss: 103.5383\n",
      "Epoch 109/150\n",
      "12/12 [==============================] - 0s 2ms/step - loss: 101.6815\n",
      "Epoch 110/150\n",
      "12/12 [==============================] - 0s 2ms/step - loss: 101.6412\n",
      "Epoch 111/150\n",
      "12/12 [==============================] - 0s 2ms/step - loss: 102.6097\n",
      "Epoch 112/150\n",
      "12/12 [==============================] - 0s 2ms/step - loss: 103.4419\n",
      "Epoch 113/150\n",
      "12/12 [==============================] - 0s 2ms/step - loss: 104.0441\n",
      "Epoch 114/150\n",
      "12/12 [==============================] - 0s 2ms/step - loss: 101.6958\n",
      "Epoch 115/150\n",
      "12/12 [==============================] - 0s 2ms/step - loss: 101.9354\n",
      "Epoch 116/150\n",
      "12/12 [==============================] - 0s 2ms/step - loss: 102.9556\n",
      "Epoch 117/150\n",
      "12/12 [==============================] - 0s 2ms/step - loss: 101.0629\n",
      "Epoch 118/150\n",
      "12/12 [==============================] - 0s 2ms/step - loss: 98.9635\n",
      "Epoch 119/150\n",
      "12/12 [==============================] - 0s 2ms/step - loss: 100.8054\n",
      "Epoch 120/150\n",
      "12/12 [==============================] - 0s 2ms/step - loss: 98.0033\n",
      "Epoch 121/150\n",
      "12/12 [==============================] - 0s 2ms/step - loss: 99.5700\n",
      "Epoch 122/150\n",
      "12/12 [==============================] - 0s 2ms/step - loss: 96.7801\n",
      "Epoch 123/150\n",
      "12/12 [==============================] - 0s 2ms/step - loss: 97.2690\n",
      "Epoch 124/150\n",
      "12/12 [==============================] - 0s 2ms/step - loss: 98.3735\n",
      "Epoch 125/150\n",
      "12/12 [==============================] - 0s 2ms/step - loss: 97.1831\n",
      "Epoch 126/150\n",
      "12/12 [==============================] - 0s 2ms/step - loss: 100.4731\n",
      "Epoch 127/150\n",
      "12/12 [==============================] - 0s 2ms/step - loss: 97.7295\n",
      "Epoch 128/150\n",
      "12/12 [==============================] - 0s 2ms/step - loss: 95.1915\n",
      "Epoch 129/150\n",
      "12/12 [==============================] - 0s 2ms/step - loss: 97.1551\n",
      "Epoch 130/150\n",
      "12/12 [==============================] - 0s 2ms/step - loss: 95.6204\n",
      "Epoch 131/150\n",
      "12/12 [==============================] - 0s 2ms/step - loss: 94.5855\n",
      "Epoch 132/150\n",
      "12/12 [==============================] - 0s 2ms/step - loss: 98.5336\n",
      "Epoch 133/150\n",
      "12/12 [==============================] - 0s 2ms/step - loss: 94.8944\n",
      "Epoch 134/150\n",
      "12/12 [==============================] - 0s 2ms/step - loss: 95.2804\n",
      "Epoch 135/150\n",
      "12/12 [==============================] - 0s 2ms/step - loss: 95.5430\n",
      "Epoch 136/150\n",
      "12/12 [==============================] - 0s 2ms/step - loss: 93.8464\n",
      "Epoch 137/150\n",
      "12/12 [==============================] - 0s 2ms/step - loss: 95.3233\n",
      "Epoch 138/150\n",
      "12/12 [==============================] - 0s 2ms/step - loss: 95.0427\n",
      "Epoch 139/150\n",
      "12/12 [==============================] - 0s 2ms/step - loss: 94.3059\n",
      "Epoch 140/150\n",
      "12/12 [==============================] - 0s 2ms/step - loss: 94.2924\n",
      "Epoch 141/150\n",
      "12/12 [==============================] - 0s 2ms/step - loss: 94.3965\n",
      "Epoch 142/150\n",
      "12/12 [==============================] - 0s 2ms/step - loss: 94.5776\n",
      "Epoch 143/150\n",
      "12/12 [==============================] - 0s 2ms/step - loss: 90.8825\n",
      "Epoch 144/150\n",
      "12/12 [==============================] - 0s 2ms/step - loss: 92.3179\n",
      "Epoch 145/150\n",
      "12/12 [==============================] - 0s 2ms/step - loss: 92.1173\n",
      "Epoch 146/150\n",
      "12/12 [==============================] - 0s 2ms/step - loss: 93.1891\n",
      "Epoch 147/150\n",
      "12/12 [==============================] - 0s 2ms/step - loss: 90.5095\n",
      "Epoch 148/150\n",
      "12/12 [==============================] - 0s 2ms/step - loss: 92.1081\n",
      "Epoch 149/150\n",
      "12/12 [==============================] - 0s 2ms/step - loss: 89.6341\n",
      "Epoch 150/150\n",
      "12/12 [==============================] - 0s 2ms/step - loss: 90.8655\n"
     ]
    }
   ],
   "source": [
    "# This experiments takes about 1 sec per epoch on an older MacBook Pro.\n",
    "history = model.fit(x_train, y_train_one_hot, batch_size=500, epochs=100) # In this example, you'll no longer want batches of size 10..."
   ]
  },
  {
   "cell_type": "markdown",
   "metadata": {
    "id": "CutYDwpj26W9"
   },
   "source": [
    "### Evaluate the model on independent test data\n",
    "* The following cell executes the model on the test data using `model.predict()`\n",
    "* The result is a list of 10-vectors (recall the on-hot encoding), only this time there are also values between 0 and 1.\n",
    "* How can we compare these with the true labels in `y_test_one_hot`? There are many possible ways to evaluate classifiers; in general, you want to define some kind of error, usually based on differences."
   ]
  },
  {
   "cell_type": "code",
   "execution_count": 23,
   "metadata": {
    "id": "UViKNdsj26W-"
   },
   "outputs": [
    {
     "name": "stdout",
     "output_type": "stream",
     "text": [
      "Shape of the test input: (500, 28, 28), shape of the predicted output: (500, 10)\n",
      "Exemplary prediction: [0.0000000e+00 0.0000000e+00 4.5191017e-03 0.0000000e+00 0.0000000e+00\n",
      " 0.0000000e+00 3.7553774e-20 9.9548090e-01 0.0000000e+00 0.0000000e+00]\n"
     ]
    }
   ],
   "source": [
    "pred = model.predict(x_test)\n",
    "print(f'Shape of the test input: {x_test.shape}, shape of the predicted output: {pred.shape}')\n",
    "print(f'Exemplary prediction: {pred[0]}')"
   ]
  },
  {
   "cell_type": "markdown",
   "metadata": {
    "id": "5A03cM7T26XC"
   },
   "source": [
    "The `argmax()` function may come in handy, which converts from the one-hot representation back to integer indices of the maximally activated classes:"
   ]
  },
  {
   "cell_type": "code",
   "execution_count": 24,
   "metadata": {
    "id": "HghimxdO26XD"
   },
   "outputs": [
    {
     "name": "stdout",
     "output_type": "stream",
     "text": [
      "Exemplary prediction: 7\n"
     ]
    }
   ],
   "source": [
    "pred_integer_indices = pred.argmax(axis = -1)\n",
    "print(f'Exemplary prediction: {pred_integer_indices[0]}')"
   ]
  },
  {
   "cell_type": "markdown",
   "metadata": {},
   "source": [
    "Now that we have the prediction of our network on the test dataset: How well does this prediction fit the real classes of the data? Let's compare the predictions with the true classes `y_true`"
   ]
  },
  {
   "cell_type": "code",
   "execution_count": 25,
   "metadata": {},
   "outputs": [
    {
     "name": "stdout",
     "output_type": "stream",
     "text": [
      "180 (36.0 %) of the examples are classified correctly while 320 (64.0%) are classified wrong.\n"
     ]
    }
   ],
   "source": [
    "diff = y_test - pred_integer_indices\n",
    "correctly_classified_examples = np.where(diff == 0)[0].shape[0]\n",
    "num_examples = y_test.shape[0]\n",
    "wrongly_classified_examples = num_examples - correctly_classified_examples\n",
    "print(f'{correctly_classified_examples} ({correctly_classified_examples/num_examples * 100} %) of the examples are classified correctly while {wrongly_classified_examples} ({wrongly_classified_examples/num_examples * 100}%) are classified wrong.')"
   ]
  },
  {
   "cell_type": "markdown",
   "metadata": {},
   "source": [
    "Are you satisfied with the performance of the classifier? If not, play around with the parameters and try to get a better result. You can for example do one of the following\n",
    "* Take a look at the loss function using the code in the following cell:\n",
    "    * Has the model finished it's training? You can increase the number of epochs in the model training above. \n",
    "    * Increase the batch size of the training.\n",
    "    \n",
    "* Increase the number of neurons (units) in the model. \n",
    "* Add more layers to you model."
   ]
  },
  {
   "cell_type": "code",
   "execution_count": 26,
   "metadata": {},
   "outputs": [
    {
     "data": {
      "image/png": "[encoded data removed]",
      "text/plain": [
       "<Figure size 1440x320 with 1 Axes>"
      ]
     },
     "metadata": {},
     "output_type": "display_data"
    }
   ],
   "source": [
    "fig,ax = plt.subplots(figsize=(18, 4), dpi= 80, facecolor='w', edgecolor='k')\n",
    "ax.plot(history.history['loss'])\n",
    "ax.set_xlabel('Epoch')\n",
    "ax.set_ylabel('Loss')\n",
    "ax.grid()\n",
    "plt.show()"
   ]
  },
  {
   "cell_type": "markdown",
   "metadata": {
    "id": "lUGW5DKC26XF"
   },
   "source": [
    "## 3. Image classification with a simple convolutional neural network (CNN)\n",
    "We now try to solve the MNIST classification using a convolutional neural network. \n",
    "\n",
    "### Training\n",
    "* First, your input data now needs to have a \"channel\" dimension, as the convolutional filter result will be a multi-channel image.\n",
    "* Next, you will need to remove the 2D nature again to feed into dense layers. \n",
    "  * `Flatten()` does this for you.\n",
    "  * Train the network as before."
   ]
  },
  {
   "cell_type": "code",
   "execution_count": 27,
   "metadata": {},
   "outputs": [],
   "source": [
    "import tensorflow\n",
    "tensorflow.keras.backend.image_data_format()\n",
    "tensorflow.keras.backend.set_image_data_format('channels_last')"
   ]
  },
  {
   "cell_type": "code",
   "execution_count": 87,
   "metadata": {
    "id": "vpzYN06B26XJ"
   },
   "outputs": [
    {
     "name": "stdout",
     "output_type": "stream",
     "text": [
      "convnet parameters: 230,186\n",
      "Model: \"sequential_11\"\n",
      "_________________________________________________________________\n",
      "Layer (type)                 Output Shape              Param #   \n",
      "=================================================================\n",
      "conv2d_32 (Conv2D)           (None, 28, 28, 32)        320       \n",
      "_________________________________________________________________\n",
      "conv2d_33 (Conv2D)           (None, 28, 28, 32)        9248      \n",
      "_________________________________________________________________\n",
      "max_pooling2d_18 (MaxPooling (None, 14, 14, 32)        0         \n",
      "_________________________________________________________________\n",
      "conv2d_34 (Conv2D)           (None, 14, 14, 32)        9248      \n",
      "_________________________________________________________________\n",
      "conv2d_35 (Conv2D)           (None, 14, 14, 32)        9248      \n",
      "_________________________________________________________________\n",
      "max_pooling2d_19 (MaxPooling (None, 7, 7, 32)          0         \n",
      "_________________________________________________________________\n",
      "flatten_9 (Flatten)          (None, 1568)              0         \n",
      "_________________________________________________________________\n",
      "dense_18 (Dense)             (None, 128)               200832    \n",
      "_________________________________________________________________\n",
      "dropout_9 (Dropout)          (None, 128)               0         \n",
      "_________________________________________________________________\n",
      "dense_19 (Dense)             (None, 10)                1290      \n",
      "=================================================================\n",
      "Total params: 230,186\n",
      "Trainable params: 230,186\n",
      "Non-trainable params: 0\n",
      "_________________________________________________________________\n"
     ]
    }
   ],
   "source": [
    "\n",
    "convnet = Sequential()\n",
    "convnet.add(InputLayer(input_shape=(28,28,1)))\n",
    "convnet.add(Conv2D(filters=32, kernel_size=(3,3), padding='same'))\n",
    "convnet.add(Conv2D(filters=32, kernel_size=(3,3), padding='same'))\n",
    "convnet.add(MaxPool2D())\n",
    "convnet.add(Conv2D(filters=32, kernel_size=(3,3), padding='same'))\n",
    "convnet.add(Conv2D(filters=32, kernel_size=(3,3), padding='same'))\n",
    "convnet.add(MaxPool2D())\n",
    "convnet.add(Flatten())\n",
    "convnet.add(Dense(units=128))\n",
    "convnet.add(Dropout(0.5))\n",
    "convnet.add(Dense(units=10, activation='softmax'))\n",
    "convnet.compile(loss='categorical_crossentropy', optimizer='adadelta')\n",
    "print(\"convnet parameters: {0:,}\".format(convnet.count_params()))\n",
    "convnet.summary()"
   ]
  },
  {
   "cell_type": "code",
   "execution_count": 79,
   "metadata": {
    "id": "Tcg3IqTK26XL",
    "scrolled": true
   },
   "outputs": [
    {
     "name": "stdout",
     "output_type": "stream",
     "text": [
      "Epoch 1/100\n",
      "12/12 [==============================] - 7s 582ms/step - loss: 20.1946\n",
      "Epoch 2/100\n",
      "12/12 [==============================] - 7s 571ms/step - loss: 20.2774\n",
      "Epoch 3/100\n",
      "12/12 [==============================] - 7s 567ms/step - loss: 19.6877\n",
      "Epoch 4/100\n",
      "12/12 [==============================] - 7s 580ms/step - loss: 18.9474\n",
      "Epoch 5/100\n",
      "12/12 [==============================] - 7s 585ms/step - loss: 19.0393\n",
      "Epoch 6/100\n",
      "12/12 [==============================] - 7s 595ms/step - loss: 18.2866\n",
      "Epoch 7/100\n",
      "12/12 [==============================] - 7s 597ms/step - loss: 17.5949\n",
      "Epoch 8/100\n",
      "12/12 [==============================] - 7s 592ms/step - loss: 17.8381\n",
      "Epoch 9/100\n",
      "12/12 [==============================] - 7s 599ms/step - loss: 17.5740\n",
      "Epoch 10/100\n",
      "12/12 [==============================] - 7s 616ms/step - loss: 17.1784\n",
      "Epoch 11/100\n",
      "12/12 [==============================] - 7s 615ms/step - loss: 17.1125\n",
      "Epoch 12/100\n",
      "12/12 [==============================] - 7s 589ms/step - loss: 16.8113\n",
      "Epoch 13/100\n",
      "12/12 [==============================] - 7s 601ms/step - loss: 16.1760\n",
      "Epoch 14/100\n",
      "12/12 [==============================] - 7s 592ms/step - loss: 16.0775\n",
      "Epoch 15/100\n",
      "12/12 [==============================] - 8s 644ms/step - loss: 15.9246\n",
      "Epoch 16/100\n",
      "12/12 [==============================] - 8s 655ms/step - loss: 15.9400\n",
      "Epoch 17/100\n",
      "12/12 [==============================] - 7s 595ms/step - loss: 15.4974\n",
      "Epoch 18/100\n",
      "12/12 [==============================] - 7s 584ms/step - loss: 14.9028\n",
      "Epoch 19/100\n",
      "12/12 [==============================] - 7s 591ms/step - loss: 15.1644\n",
      "Epoch 20/100\n",
      "12/12 [==============================] - 7s 589ms/step - loss: 14.6983\n",
      "Epoch 21/100\n",
      "12/12 [==============================] - 7s 586ms/step - loss: 14.4276\n",
      "Epoch 22/100\n",
      "12/12 [==============================] - 7s 587ms/step - loss: 14.4156\n",
      "Epoch 23/100\n",
      "12/12 [==============================] - 7s 590ms/step - loss: 14.1101\n",
      "Epoch 24/100\n",
      "12/12 [==============================] - 7s 581ms/step - loss: 13.9133\n",
      "Epoch 25/100\n",
      "12/12 [==============================] - 7s 579ms/step - loss: 13.4560\n",
      "Epoch 26/100\n",
      "12/12 [==============================] - 7s 590ms/step - loss: 13.7332\n",
      "Epoch 27/100\n",
      "12/12 [==============================] - 7s 584ms/step - loss: 13.2455\n",
      "Epoch 28/100\n",
      "12/12 [==============================] - 7s 585ms/step - loss: 13.1513\n",
      "Epoch 29/100\n",
      "12/12 [==============================] - 7s 578ms/step - loss: 12.9386\n",
      "Epoch 30/100\n",
      "12/12 [==============================] - 7s 582ms/step - loss: 12.9215\n",
      "Epoch 31/100\n",
      "12/12 [==============================] - 7s 596ms/step - loss: 12.7040\n",
      "Epoch 32/100\n",
      "12/12 [==============================] - 7s 592ms/step - loss: 12.8539\n",
      "Epoch 33/100\n",
      "12/12 [==============================] - 7s 583ms/step - loss: 12.7299\n",
      "Epoch 34/100\n",
      "12/12 [==============================] - 7s 597ms/step - loss: 12.4452\n",
      "Epoch 35/100\n",
      "12/12 [==============================] - 7s 590ms/step - loss: 12.0023\n",
      "Epoch 36/100\n",
      "12/12 [==============================] - 7s 594ms/step - loss: 12.0325\n",
      "Epoch 37/100\n",
      "12/12 [==============================] - 7s 591ms/step - loss: 11.6170\n",
      "Epoch 38/100\n",
      "12/12 [==============================] - 7s 594ms/step - loss: 11.7221\n",
      "Epoch 39/100\n",
      "12/12 [==============================] - 7s 588ms/step - loss: 11.6056\n",
      "Epoch 40/100\n",
      "12/12 [==============================] - 7s 587ms/step - loss: 11.4496\n",
      "Epoch 41/100\n",
      "12/12 [==============================] - 7s 584ms/step - loss: 11.5909\n",
      "Epoch 42/100\n",
      "12/12 [==============================] - 7s 584ms/step - loss: 11.1249\n",
      "Epoch 43/100\n",
      "12/12 [==============================] - 7s 586ms/step - loss: 11.2842\n",
      "Epoch 44/100\n",
      "12/12 [==============================] - 7s 582ms/step - loss: 10.9924\n",
      "Epoch 45/100\n",
      "12/12 [==============================] - 7s 583ms/step - loss: 10.7600\n",
      "Epoch 46/100\n",
      "12/12 [==============================] - 7s 580ms/step - loss: 10.5197\n",
      "Epoch 47/100\n",
      "12/12 [==============================] - 7s 579ms/step - loss: 10.4485\n",
      "Epoch 48/100\n",
      "12/12 [==============================] - 7s 583ms/step - loss: 10.4775\n",
      "Epoch 49/100\n",
      "12/12 [==============================] - 10s 884ms/step - loss: 10.1050\n",
      "Epoch 50/100\n",
      "12/12 [==============================] - 13s 1s/step - loss: 10.1813\n",
      "Epoch 51/100\n",
      "12/12 [==============================] - 12s 1s/step - loss: 10.0279\n",
      "Epoch 52/100\n",
      "12/12 [==============================] - 13s 1s/step - loss: 9.7896\n",
      "Epoch 53/100\n",
      "12/12 [==============================] - 12s 989ms/step - loss: 9.7752\n",
      "Epoch 54/100\n",
      "12/12 [==============================] - 12s 1s/step - loss: 9.8421\n",
      "Epoch 55/100\n",
      "12/12 [==============================] - 12s 1s/step - loss: 9.6646\n",
      "Epoch 56/100\n",
      "12/12 [==============================] - 12s 1s/step - loss: 9.6555\n",
      "Epoch 57/100\n",
      "12/12 [==============================] - 12s 1s/step - loss: 9.6069\n",
      "Epoch 58/100\n",
      "12/12 [==============================] - 12s 1s/step - loss: 9.4677\n",
      "Epoch 59/100\n",
      "12/12 [==============================] - 12s 1s/step - loss: 9.1672\n",
      "Epoch 60/100\n",
      "12/12 [==============================] - 8s 635ms/step - loss: 9.1926\n",
      "Epoch 61/100\n",
      "12/12 [==============================] - 7s 590ms/step - loss: 9.1181\n",
      "Epoch 62/100\n",
      "12/12 [==============================] - 7s 596ms/step - loss: 8.9176\n",
      "Epoch 63/100\n",
      "12/12 [==============================] - 7s 580ms/step - loss: 8.9968\n",
      "Epoch 64/100\n",
      "12/12 [==============================] - 7s 584ms/step - loss: 8.8135\n",
      "Epoch 65/100\n",
      "12/12 [==============================] - 7s 590ms/step - loss: 8.7899\n",
      "Epoch 66/100\n",
      "12/12 [==============================] - 7s 583ms/step - loss: 8.8517\n",
      "Epoch 67/100\n",
      "12/12 [==============================] - 7s 578ms/step - loss: 8.4794\n",
      "Epoch 68/100\n",
      "12/12 [==============================] - 7s 579ms/step - loss: 8.6149\n",
      "Epoch 69/100\n",
      "12/12 [==============================] - 7s 597ms/step - loss: 8.3724\n",
      "Epoch 70/100\n",
      "12/12 [==============================] - 7s 577ms/step - loss: 8.3726\n",
      "Epoch 71/100\n",
      "12/12 [==============================] - 7s 577ms/step - loss: 8.2235\n",
      "Epoch 72/100\n",
      "12/12 [==============================] - 7s 581ms/step - loss: 8.2598\n",
      "Epoch 73/100\n",
      "12/12 [==============================] - 7s 579ms/step - loss: 8.1113\n",
      "Epoch 74/100\n",
      "12/12 [==============================] - 7s 582ms/step - loss: 8.0883\n",
      "Epoch 75/100\n",
      "12/12 [==============================] - 7s 579ms/step - loss: 8.0781\n",
      "Epoch 76/100\n",
      "12/12 [==============================] - 7s 583ms/step - loss: 7.9295\n",
      "Epoch 77/100\n",
      "12/12 [==============================] - 7s 582ms/step - loss: 8.0149\n",
      "Epoch 78/100\n",
      "12/12 [==============================] - 7s 578ms/step - loss: 7.6771\n",
      "Epoch 79/100\n",
      "12/12 [==============================] - 7s 579ms/step - loss: 7.9762\n",
      "Epoch 80/100\n",
      "12/12 [==============================] - 7s 579ms/step - loss: 7.6120\n",
      "Epoch 81/100\n",
      "12/12 [==============================] - 7s 576ms/step - loss: 7.6728\n",
      "Epoch 82/100\n",
      "12/12 [==============================] - 7s 575ms/step - loss: 7.7110\n",
      "Epoch 83/100\n",
      "12/12 [==============================] - 7s 580ms/step - loss: 7.6672\n",
      "Epoch 84/100\n",
      "12/12 [==============================] - 7s 581ms/step - loss: 7.4544\n",
      "Epoch 85/100\n",
      "12/12 [==============================] - 7s 597ms/step - loss: 7.6080\n",
      "Epoch 86/100\n",
      "12/12 [==============================] - 7s 614ms/step - loss: 7.4624\n",
      "Epoch 87/100\n",
      "12/12 [==============================] - 7s 580ms/step - loss: 7.3766\n",
      "Epoch 88/100\n",
      "12/12 [==============================] - 7s 582ms/step - loss: 7.2125\n",
      "Epoch 89/100\n",
      "12/12 [==============================] - 7s 580ms/step - loss: 7.3433\n",
      "Epoch 90/100\n",
      "12/12 [==============================] - 7s 579ms/step - loss: 7.2620\n",
      "Epoch 91/100\n",
      "12/12 [==============================] - 7s 581ms/step - loss: 7.1636\n",
      "Epoch 92/100\n",
      "12/12 [==============================] - 7s 578ms/step - loss: 7.2498\n",
      "Epoch 93/100\n",
      "12/12 [==============================] - 7s 579ms/step - loss: 7.0062\n",
      "Epoch 94/100\n",
      "12/12 [==============================] - 7s 579ms/step - loss: 6.9024\n",
      "Epoch 95/100\n",
      "12/12 [==============================] - 7s 580ms/step - loss: 7.0979\n",
      "Epoch 96/100\n",
      "12/12 [==============================] - 7s 579ms/step - loss: 6.7955\n",
      "Epoch 97/100\n",
      "12/12 [==============================] - 7s 581ms/step - loss: 6.8656\n",
      "Epoch 98/100\n",
      "12/12 [==============================] - 7s 579ms/step - loss: 6.8357\n",
      "Epoch 99/100\n"
     ]
    },
    {
     "name": "stdout",
     "output_type": "stream",
     "text": [
      "12/12 [==============================] - 7s 579ms/step - loss: 6.6315\n",
      "Epoch 100/100\n",
      "12/12 [==============================] - 7s 580ms/step - loss: 6.7921\n"
     ]
    }
   ],
   "source": [
    "convnet_history = convnet.fit(x_train[...,np.newaxis], y_train_one_hot, batch_size=500, epochs=100)"
   ]
  },
  {
   "cell_type": "markdown",
   "metadata": {},
   "source": [
    "### Compare the training performance"
   ]
  },
  {
   "cell_type": "markdown",
   "metadata": {
    "id": "pNLigCrz26XO"
   },
   "source": [
    "Take a look at the loss plot. You can also compare it directly with the loss from the fully-connected network above by plotting both into the same figure. What do you observe?"
   ]
  },
  {
   "cell_type": "code",
   "execution_count": 80,
   "metadata": {
    "id": "BJDMn63L26XO"
   },
   "outputs": [
    {
     "data": {
      "image/png": "[encoded data removed]",
      "text/plain": [
       "<Figure size 1440x320 with 1 Axes>"
      ]
     },
     "metadata": {},
     "output_type": "display_data"
    }
   ],
   "source": [
    "fig,ax = plt.subplots(figsize=(18, 4), dpi= 80, facecolor='w', edgecolor='k')\n",
    "ax.plot(convnet_history.history['loss'], label='CNN')\n",
    "# Remove the # to plot both loss curves togehter\n",
    "#ax.plot(history.history['loss'], label='FCN')\n",
    "ax.set_xlabel('Epoch')\n",
    "ax.set_ylabel('Loss')\n",
    "ax.grid()\n",
    "ax.legend()\n",
    "plt.show()"
   ]
  },
  {
   "cell_type": "markdown",
   "metadata": {},
   "source": [
    "### Evaluate on the test data\n",
    "Apply the model to the test data and have a look how many cases are classified correctly:"
   ]
  },
  {
   "cell_type": "code",
   "execution_count": 81,
   "metadata": {},
   "outputs": [],
   "source": [
    "pred = convnet.predict(x_test[...,np.newaxis])\n",
    "pred_integer_indices = pred.argmax(axis = -1)"
   ]
  },
  {
   "cell_type": "code",
   "execution_count": 82,
   "metadata": {},
   "outputs": [
    {
     "name": "stdout",
     "output_type": "stream",
     "text": [
      "394 (78.8 %) of the examples are classified correctly while 106 (21.2%) are classified wrong.\n"
     ]
    }
   ],
   "source": [
    "diff = y_test - pred_integer_indices\n",
    "correctly_classified_examples = np.where(diff == 0)[0].shape[0]\n",
    "num_examples = y_test.shape[0]\n",
    "wrongly_classified_examples = num_examples - correctly_classified_examples\n",
    "print(f'{correctly_classified_examples} ({correctly_classified_examples/num_examples * 100} %) of the examples are classified correctly while {wrongly_classified_examples} ({wrongly_classified_examples/num_examples * 100}%) are classified wrong.')"
   ]
  },
  {
   "cell_type": "markdown",
   "metadata": {
    "id": "y0NTQY5G26XQ"
   },
   "source": [
    "To inspect the prediction performance in more detail the [confusion matrix](https://en.wikipedia.org/wiki/Confusion_matrix) is a useful evaluation metric. It displays for every class the amount of examples which are classified as any of the given classes."
   ]
  },
  {
   "cell_type": "code",
   "execution_count": 83,
   "metadata": {
    "id": "unNbwnck26XQ"
   },
   "outputs": [
    {
     "data": {
      "text/plain": [
       "array([[32,  0,  2,  0,  0,  1,  2,  0,  1,  0],\n",
       "       [ 0, 47,  0,  0,  0,  0,  0,  2,  1,  1],\n",
       "       [ 0,  1, 36,  7,  0,  1,  0,  3,  1,  0],\n",
       "       [ 1,  1,  2, 35,  0,  3,  0,  1,  2,  1],\n",
       "       [ 0,  0,  1,  1, 46,  1,  1,  0,  0,  8],\n",
       "       [ 3,  0,  0,  6,  2, 39,  0,  0,  2,  3],\n",
       "       [ 1,  0,  2,  1,  3,  1, 42,  0,  1,  1],\n",
       "       [ 0,  1,  0,  1,  0,  0,  0, 48,  0,  8],\n",
       "       [ 1,  7,  2,  3,  0,  1,  1,  1, 38,  3],\n",
       "       [ 0,  0,  0,  0,  1,  0,  0,  4,  0, 31]])"
      ]
     },
     "execution_count": 83,
     "metadata": {},
     "output_type": "execute_result"
    }
   ],
   "source": [
    "import sklearn.metrics\n",
    "pred = convnet.predict(x_test[...,np.newaxis])\n",
    "cm = sklearn.metrics.confusion_matrix(pred.argmax(axis = -1), y_test)\n",
    "cm"
   ]
  },
  {
   "cell_type": "markdown",
   "metadata": {
    "id": "J-a8xehI26XS"
   },
   "source": [
    "It's more intuitive to look at it as a heat map."
   ]
  },
  {
   "cell_type": "code",
   "execution_count": 84,
   "metadata": {
    "id": "MWG4Typ426XT"
   },
   "outputs": [
    {
     "data": {
      "image/png": "[encoded data removed]",
      "text/plain": [
       "<Figure size 288x288 with 1 Axes>"
      ]
     },
     "metadata": {
      "needs_background": "light"
     },
     "output_type": "display_data"
    }
   ],
   "source": [
    "plt.matshow(cm)\n",
    "plt.show()"
   ]
  },
  {
   "cell_type": "markdown",
   "metadata": {
    "id": "Yzp2Regj26XV"
   },
   "source": [
    "Side note: Numpy and Matplotlib are two important, central libraries for numeric computing with Python. In addition, there are also more advanced libraries such as Seaborn, which build upon the things introduced above and offer dedicated functions for complex graphics, such as a combined version of the above matrix + heatmap."
   ]
  },
  {
   "cell_type": "code",
   "execution_count": 85,
   "metadata": {
    "id": "YGTlvLbD26XX"
   },
   "outputs": [
    {
     "data": {
      "image/png": "[encoded data removed]",
      "text/plain": [
       "<Figure size 432x288 with 2 Axes>"
      ]
     },
     "metadata": {
      "needs_background": "light"
     },
     "output_type": "display_data"
    }
   ],
   "source": [
    "import seaborn as sns\n",
    "ax = sns.heatmap(cm, annot=True)"
   ]
  },
  {
   "cell_type": "markdown",
   "metadata": {},
   "source": [
    "Looking at the confusion map:\n",
    "* Which classes are easy for the classifier and which are hard?\n",
    "* Which classes get mixed up a lot? Can you think about a reason for that? "
   ]
  },
  {
   "cell_type": "markdown",
   "metadata": {},
   "source": [
    "Are you satisifed with the results of the classifier? Try out different configurations:\n",
    "* Change the number of epochs used during training\n",
    "* Change the batch size.\n",
    "* Add more layers to the model.\n",
    "* Change the number of filters or the kernel_size of the model\n",
    "* ..."
   ]
  }
 ],
 "metadata": {
  "accelerator": "GPU",
  "colab": {
   "include_colab_link": true,
   "name": "Session_1_CNN_Classification.ipynb",
   "provenance": [],
   "toc_visible": true
  },
  "kernelspec": {
   "display_name": "Python [conda env:env36] *",
   "language": "python",
   "name": "conda-env-env36-py"
  },
  "language_info": {
   "codemirror_mode": {
    "name": "ipython",
    "version": 3
   },
   "file_extension": ".py",
   "mimetype": "text/x-python",
   "name": "python",
   "nbconvert_exporter": "python",
   "pygments_lexer": "ipython3",
   "version": "3.6.9"
  }
 },
 "nbformat": 4,
 "nbformat_minor": 1
}
